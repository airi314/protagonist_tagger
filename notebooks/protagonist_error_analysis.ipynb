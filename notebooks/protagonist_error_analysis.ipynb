{
 "cells": [
  {
   "cell_type": "code",
   "execution_count": null,
   "id": "b4ac67ff",
   "metadata": {},
   "outputs": [],
   "source": [
    "import os\n",
    "os.chdir(\"..\")\n",
    "import json\n",
    "\n",
    "import pandas as pd\n",
    "import ast\n",
    "import tabulate\n",
    "\n",
    "from tool.gender_checker import get_personal_titles\n",
    "from tool.annotations_utils import read_annotations, has_intersection, fix_personal_titles, personal_titles_stats\n",
    "from tool.ner_metrics import *\n",
    "from tool.file_and_directory_management import read_file_to_list"
   ]
  },
  {
   "cell_type": "code",
   "execution_count": null,
   "id": "8bc0a758",
   "metadata": {},
   "outputs": [],
   "source": [
    "titles = read_file_to_list('data/novels_titles/combined_set.txt')"
   ]
  },
  {
   "cell_type": "code",
   "execution_count": null,
   "id": "20dd7894",
   "metadata": {},
   "outputs": [],
   "source": [
    "gold_standard_path = \"data/testing_sets/test_person_gold_standard_corrected\""
   ]
  },
  {
   "cell_type": "code",
   "execution_count": null,
   "id": "6f93db27",
   "metadata": {},
   "outputs": [],
   "source": [
    "results = []\n",
    "for title in titles:\n",
    "    annotations_person, _ = data_from_json(os.path.join(gold_standard_path, title + '.json'))\n",
    "\n",
    "    prediction_path = \"experiments/protagonist/ner\"\n",
    "    predictions_person, _ = data_from_json(os.path.join(prediction_path, title + '.json'))\n",
    "\n",
    "    gold_standard_path = \"data/testing_sets/test_names_gold_standard_corrected\"\n",
    "    annotations_names, _ = data_from_json(os.path.join(gold_standard_path, title+ '.json'))\n",
    "\n",
    "    prediction_path = \"experiments/protagonist\"\n",
    "    predictions_names, _ = data_from_json(os.path.join(prediction_path, title+ '.json'))\n",
    "\n",
    "    missing = 0\n",
    "    incorrect = 0\n",
    "    protagonist_person = 0 \n",
    "    protagonist_protagonist = 0\n",
    "    person_protagonist = 0\n",
    "    for sent_id, (sent_gold_entities, sent_matcher_entities_person, sent_matcher_entities) in enumerate(\n",
    "            zip(annotations_names, predictions_person, predictions_names)):\n",
    "        sent_matcher_entities_person = [x[:3] for x in sent_matcher_entities_person]\n",
    "        algorithm = 0\n",
    "\n",
    "        for gold_entity in sent_gold_entities:\n",
    "            if gold_entity in sent_matcher_entities:  # if there is the same entity in predictions -> TP\n",
    "                pass\n",
    "            elif gold_entity[:2] + [\"PERSON\"] in sent_matcher_entities_person:\n",
    "                pred_entity = [x for x in sent_matcher_entities if x[0] == gold_entity[0] and x[1] == gold_entity[1]]\n",
    "                assert len(pred_entity) == 1\n",
    "                algorithm += 1\n",
    "                if gold_entity[2] == \"PERSON\":\n",
    "                    person_protagonist += 1\n",
    "                elif pred_entity[0][2] == \"PERSON\":\n",
    "                    protagonist_person += 1\n",
    "                else:\n",
    "                    protagonist_protagonist += 1\n",
    "            else:\n",
    "                missing += 1\n",
    "        for matcher_entity in sent_matcher_entities:\n",
    "            if matcher_entity not in sent_gold_entities:\n",
    "                incorrect += 1\n",
    "        incorrect -= algorithm    \n",
    "    title_results = {'Title': title.split('.')[0].replace('_', ' '), \n",
    "                 '# missing person errors': missing, \n",
    "                 '# incorrect person errors': incorrect, \n",
    "                 '# protagonist-person errors': protagonist_person,\n",
    "                 '# person-protagonist errors': person_protagonist, \n",
    "                 '# protagonist-protagonist errors':  protagonist_protagonist}\n",
    "    results.append(title_results)\n",
    "df = pd.DataFrame(results)"
   ]
  },
  {
   "cell_type": "code",
   "execution_count": null,
   "id": "c368e0e0",
   "metadata": {},
   "outputs": [],
   "source": [
    "print(tabulate.tabulate(df, headers = df.columns, tablefmt='latex_booktabs'))"
   ]
  }
 ],
 "metadata": {
  "kernelspec": {
   "display_name": "Python 3",
   "language": "python",
   "name": "python3"
  },
  "language_info": {
   "codemirror_mode": {
    "name": "ipython",
    "version": 3
   },
   "file_extension": ".py",
   "mimetype": "text/x-python",
   "name": "python",
   "nbconvert_exporter": "python",
   "pygments_lexer": "ipython3",
   "version": "3.6.13"
  }
 },
 "nbformat": 4,
 "nbformat_minor": 5
}
