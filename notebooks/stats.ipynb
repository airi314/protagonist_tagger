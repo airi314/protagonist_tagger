{
 "cells": [
  {
   "cell_type": "code",
   "execution_count": 1,
   "id": "6b8b4bc7",
   "metadata": {},
   "outputs": [],
   "source": [
    "import pandas as pd\n",
    "import numpy as np\n",
    "import os\n",
    "import json\n",
    "import matplotlib.pyplot as plt"
   ]
  },
  {
   "cell_type": "markdown",
   "id": "b54b95bf",
   "metadata": {},
   "source": [
    "## Litbank"
   ]
  },
  {
   "cell_type": "code",
   "execution_count": 2,
   "id": "1074ec49",
   "metadata": {
    "scrolled": true
   },
   "outputs": [],
   "source": [
    "dir_path = '../resources/litbank/coref/tsv'\n",
    "titles = os.listdir(dir_path)\n",
    "titles = [t for t in titles if t.endswith('.ann')]"
   ]
  },
  {
   "cell_type": "code",
   "execution_count": 3,
   "id": "a1d2d929",
   "metadata": {},
   "outputs": [],
   "source": [
    "counts = []\n",
    "for title in titles:\n",
    "    data = pd.read_csv(os.path.join(dir_path, title), sep='\\t', header=None)\n",
    "    data.columns = ['type', 'id', 'sent', 'token_start', 'sent2', 'token_end', 'text', 'tag', 'tag_type']\n",
    "    data = data[data.type == 'MENTION']\n",
    "    data = data[data.tag_type == 'PROP']\n",
    "    counts.append(dict(data.groupby('tag').count()['type']))"
   ]
  },
  {
   "cell_type": "code",
   "execution_count": 4,
   "id": "e994375e",
   "metadata": {
    "scrolled": true
   },
   "outputs": [
    {
     "name": "stdout",
     "output_type": "stream",
     "text": [
      "PER 26.65\n",
      "GPE 5.64\n",
      "LOC 1.17\n"
     ]
    }
   ],
   "source": [
    "print('PER', sum([c['PER'] for c in counts if 'PER' in c.keys()])/100)\n",
    "print('GPE', sum([c['GPE'] for c in counts if 'GPE' in c.keys()])/100)\n",
    "print('LOC', sum([c['LOC'] for c in counts if 'LOC' in c.keys()])/100)"
   ]
  },
  {
   "cell_type": "code",
   "execution_count": 5,
   "id": "76847338",
   "metadata": {},
   "outputs": [
    {
     "name": "stdout",
     "output_type": "stream",
     "text": [
      "Avg. # clusters per doc 72.35\n",
      "Avg. # entities per cluster 4.558072717302165\n",
      "Avg. # entities per doc 284.11\n"
     ]
    }
   ],
   "source": [
    "clusters = 0\n",
    "entities_cluster = 0\n",
    "entities = 0\n",
    "for title in titles:\n",
    "    data = pd.read_table(os.path.join(dir_path, title), header=None)\n",
    "    data.columns = ['type', 'id', 'sent', 'token_start', 'sent2', 'token_end', 'text', 'tag', 'tag_type']\n",
    "    clusters += len(data[data.type=='COREF'].groupby('sent').count()['type'])\n",
    "    entities_cluster += np.mean(data[data.type=='COREF'].groupby('sent').count()['type'])\n",
    "    entities += np.sum(data[data.type=='COREF'].groupby('sent').count()['type'])\n",
    "\n",
    "print('Avg. # clusters per doc', clusters/100)\n",
    "print('Avg. # entities per cluster', entities_cluster/100)\n",
    "print('Avg. # entities per doc', entities/100)"
   ]
  },
  {
   "cell_type": "code",
   "execution_count": 6,
   "id": "6fe57b79",
   "metadata": {},
   "outputs": [
    {
     "name": "stdout",
     "output_type": "stream",
     "text": [
      "Avg. # sentences per doc 85.6\n"
     ]
    }
   ],
   "source": [
    "titles = os.listdir(dir_path)\n",
    "titles = [t for t in titles if t.endswith('.txt')]\n",
    "sentences = 0\n",
    "for title in titles:\n",
    "    with open(os.path.join(dir_path, title)) as f:\n",
    "        text = f.read()\n",
    "        sentences += len(text.split('\\n'))-1\n",
    "print(\"Avg. # sentences per doc\", sentences/100)"
   ]
  },
  {
   "cell_type": "markdown",
   "id": "61d0e0ff",
   "metadata": {},
   "source": [
    "## Protagonist Tagger v1"
   ]
  },
  {
   "cell_type": "code",
   "execution_count": 7,
   "id": "4a77a9f8",
   "metadata": {},
   "outputs": [
    {
     "name": "stdout",
     "output_type": "stream",
     "text": [
      "Avg. # sentences per doc 100.0\n",
      "Avg. # entities per doc 99.46153846153847\n"
     ]
    }
   ],
   "source": [
    "dir_path = '../data/testing_sets/test_person_gold_standard'\n",
    "titles = os.listdir(dir_path)\n",
    "entities = 0\n",
    "sentences = 0\n",
    "for title in titles:\n",
    "    with open(os.path.join(dir_path, title)) as f:\n",
    "        data = json.loads(f.read())\n",
    "        entities += sum([len(d['entities']) for d in data])\n",
    "        sentences += len(data)\n",
    "\n",
    "print(\"Avg. # sentences per doc\", sentences/len(titles))\n",
    "print(\"Avg. # entities per doc\", entities/len(titles))"
   ]
  },
  {
   "cell_type": "code",
   "execution_count": 8,
   "id": "d41621aa",
   "metadata": {},
   "outputs": [
    {
     "ename": "IsADirectoryError",
     "evalue": "[Errno 21] Is a directory: '../data/lists_of_characters/pride_and_prejudice_40'",
     "output_type": "error",
     "traceback": [
      "\u001b[0;31m---------------------------------------------------------------------------\u001b[0m",
      "\u001b[0;31mIsADirectoryError\u001b[0m                         Traceback (most recent call last)",
      "Input \u001b[0;32mIn [8]\u001b[0m, in \u001b[0;36m<cell line: 4>\u001b[0;34m()\u001b[0m\n\u001b[1;32m      3\u001b[0m protagonists \u001b[38;5;241m=\u001b[39m \u001b[38;5;241m0\u001b[39m\n\u001b[1;32m      4\u001b[0m \u001b[38;5;28;01mfor\u001b[39;00m title \u001b[38;5;129;01min\u001b[39;00m titles:\n\u001b[0;32m----> 5\u001b[0m     \u001b[38;5;28;01mwith\u001b[39;00m \u001b[38;5;28;43mopen\u001b[39;49m\u001b[43m(\u001b[49m\u001b[43mos\u001b[49m\u001b[38;5;241;43m.\u001b[39;49m\u001b[43mpath\u001b[49m\u001b[38;5;241;43m.\u001b[39;49m\u001b[43mjoin\u001b[49m\u001b[43m(\u001b[49m\u001b[43mdir_path\u001b[49m\u001b[43m,\u001b[49m\u001b[43m \u001b[49m\u001b[43mtitle\u001b[49m\u001b[43m)\u001b[49m\u001b[43m)\u001b[49m \u001b[38;5;28;01mas\u001b[39;00m f:\n\u001b[1;32m      6\u001b[0m         data \u001b[38;5;241m=\u001b[39m f\u001b[38;5;241m.\u001b[39mreadlines()\n\u001b[1;32m      7\u001b[0m         protagonists \u001b[38;5;241m+\u001b[39m\u001b[38;5;241m=\u001b[39m \u001b[38;5;28mlen\u001b[39m(data)\n",
      "\u001b[0;31mIsADirectoryError\u001b[0m: [Errno 21] Is a directory: '../data/lists_of_characters/pride_and_prejudice_40'"
     ]
    }
   ],
   "source": [
    "dir_path = '../data/lists_of_characters'\n",
    "titles = os.listdir(dir_path)\n",
    "protagonists = 0\n",
    "for title in titles:\n",
    "    k\n",
    "    with open(os.path.join(dir_path, title)) as f:\n",
    "        data = f.readlines()\n",
    "        protagonists += len(data)\n",
    "print(\"Avg. # protagonists per doc\", protagonists/len(titles))"
   ]
  },
  {
   "cell_type": "code",
   "execution_count": null,
   "id": "2b9ecaf2",
   "metadata": {},
   "outputs": [],
   "source": [
    "dir_path = '../data/testing_sets/test_names_gold_standard'\n",
    "titles = os.listdir(dir_path)\n",
    "entities = 0\n",
    "sentences = 0\n",
    "counts = []\n",
    "for title in titles:\n",
    "    with open(os.path.join(dir_path, title)) as f:\n",
    "        data = json.loads(f.read())\n",
    "        entities += sum([len(d['entities']) for d in data])\n",
    "        sentences += len(data)\n",
    "        counts += list(np.unique([e[2] for d in data for e in d['entities']], return_counts=True)[1])\n",
    "print(\"Avg. # sentences per doc\", sentences/len(titles))\n",
    "print(\"Avg. # entities per doc\", entities/len(titles))\n",
    "print(\"Avg. # entities per protagonist\", sum(counts)/len(counts))"
   ]
  },
  {
   "cell_type": "markdown",
   "id": "fb623fca",
   "metadata": {},
   "source": [
    "## Protagonist Tagger v2"
   ]
  },
  {
   "cell_type": "code",
   "execution_count": 9,
   "id": "698ba930",
   "metadata": {},
   "outputs": [
    {
     "name": "stdout",
     "output_type": "stream",
     "text": [
      "Avg. # sentences per doc 100.0\n",
      "Avg. # entities per doc 118.38461538461539\n"
     ]
    }
   ],
   "source": [
    "dir_path = '../data/testing_sets/test_person_gold_standard_corrected'\n",
    "titles = os.listdir(dir_path)\n",
    "entities = 0\n",
    "sentences = 0\n",
    "for title in titles:\n",
    "    with open(os.path.join(dir_path, title)) as f:\n",
    "        data = json.loads(f.read())\n",
    "        entities += sum([len(d['entities']) for d in data])\n",
    "        sentences += len(data)\n",
    "\n",
    "print(\"Avg. # sentences per doc\", sentences/len(titles))\n",
    "print(\"Avg. # entities per doc\", entities/len(titles))"
   ]
  },
  {
   "cell_type": "code",
   "execution_count": 10,
   "id": "3d7c51db",
   "metadata": {},
   "outputs": [
    {
     "ename": "IsADirectoryError",
     "evalue": "[Errno 21] Is a directory: '../data/lists_of_characters/pride_and_prejudice_40'",
     "output_type": "error",
     "traceback": [
      "\u001b[0;31m---------------------------------------------------------------------------\u001b[0m",
      "\u001b[0;31mIsADirectoryError\u001b[0m                         Traceback (most recent call last)",
      "Input \u001b[0;32mIn [10]\u001b[0m, in \u001b[0;36m<cell line: 4>\u001b[0;34m()\u001b[0m\n\u001b[1;32m      3\u001b[0m protagonists \u001b[38;5;241m=\u001b[39m \u001b[38;5;241m0\u001b[39m\n\u001b[1;32m      4\u001b[0m \u001b[38;5;28;01mfor\u001b[39;00m title \u001b[38;5;129;01min\u001b[39;00m titles:\n\u001b[0;32m----> 5\u001b[0m     \u001b[38;5;28;01mwith\u001b[39;00m \u001b[38;5;28;43mopen\u001b[39;49m\u001b[43m(\u001b[49m\u001b[43mos\u001b[49m\u001b[38;5;241;43m.\u001b[39;49m\u001b[43mpath\u001b[49m\u001b[38;5;241;43m.\u001b[39;49m\u001b[43mjoin\u001b[49m\u001b[43m(\u001b[49m\u001b[43mdir_path\u001b[49m\u001b[43m,\u001b[49m\u001b[43m \u001b[49m\u001b[43mtitle\u001b[49m\u001b[43m)\u001b[49m\u001b[43m)\u001b[49m \u001b[38;5;28;01mas\u001b[39;00m f:\n\u001b[1;32m      6\u001b[0m         data \u001b[38;5;241m=\u001b[39m f\u001b[38;5;241m.\u001b[39mreadlines()\n\u001b[1;32m      7\u001b[0m         protagonists \u001b[38;5;241m+\u001b[39m\u001b[38;5;241m=\u001b[39m \u001b[38;5;28mlen\u001b[39m(data)\n",
      "\u001b[0;31mIsADirectoryError\u001b[0m: [Errno 21] Is a directory: '../data/lists_of_characters/pride_and_prejudice_40'"
     ]
    }
   ],
   "source": [
    "dir_path = '../data/lists_of_characters'\n",
    "titles = os.listdir(dir_path)\n",
    "protagonists = 0\n",
    "for title in titles:\n",
    "    with open(os.path.join(dir_path, title)) as f:\n",
    "        data = f.readlines()\n",
    "        protagonists += len(data)\n",
    "print(\"Avg. # protagonists per doc\", protagonists/len(titles))"
   ]
  },
  {
   "cell_type": "code",
   "execution_count": 11,
   "id": "9772594f",
   "metadata": {},
   "outputs": [
    {
     "name": "stdout",
     "output_type": "stream",
     "text": [
      "Avg. # sentences per doc 100.0\n",
      "Avg. # entities per doc 118.38461538461539\n",
      "Avg. # entities per protagonist 8.274193548387096\n"
     ]
    }
   ],
   "source": [
    "dir_path = '../data/testing_sets/test_names_gold_standard_corrected'\n",
    "titles = os.listdir(dir_path)\n",
    "entities = 0\n",
    "sentences = 0\n",
    "counts = []\n",
    "lengths = []\n",
    "for title in titles:\n",
    "    with open(os.path.join(dir_path, title)) as f:\n",
    "        data = json.loads(f.read())\n",
    "        entities += sum([len(d['entities']) for d in data])\n",
    "        sentences += len(data)\n",
    "        counts += list(np.unique([e[2] for d in data for e in d['entities']], return_counts=True)[1])\n",
    "        lengths += list([e[1]-e[0] for d in data for e in d['entities']])\n",
    "\n",
    "print(\"Avg. # sentences per doc\", sentences/len(titles))\n",
    "print(\"Avg. # entities per doc\", entities/len(titles))\n",
    "print(\"Avg. # entities per protagonist\", sum(counts)/len(counts))"
   ]
  },
  {
   "cell_type": "code",
   "execution_count": 14,
   "id": "0c36dff3",
   "metadata": {},
   "outputs": [
    {
     "data": {
      "image/png": "[encoded data removed]",
      "text/plain": [
       "<Figure size 1080x720 with 1 Axes>"
      ]
     },
     "metadata": {
      "needs_background": "light"
     },
     "output_type": "display_data"
    }
   ],
   "source": [
    "bins = np.arange(0, max(counts) + 1.5) - 0.5\n",
    "fig, ax = plt.subplots(figsize=(15,10))\n",
    "_ = ax.hist(counts, bins=bins, width=0.7)\n",
    "ax.set_xticks(bins[::5] + 0.5)\n",
    "plt.xlabel('Number of entities per protagonist',  fontsize=15)\n",
    "plt.ylabel('Number of protagonists',  fontsize=15)\n",
    "plt.title('Number of entities per protagonist', fontsize=20)\n",
    "plt.savefig('histogram_entities_per_protagonist.png')"
   ]
  },
  {
   "cell_type": "code",
   "execution_count": 261,
   "id": "4233eb98",
   "metadata": {},
   "outputs": [
    {
     "data": {
      "image/png": "[encoded data removed]",
      "text/plain": [
       "<Figure size 1080x720 with 1 Axes>"
      ]
     },
     "metadata": {
      "needs_background": "light"
     },
     "output_type": "display_data"
    }
   ],
   "source": [
    "fig, ax = plt.subplots(figsize=(15,10))\n",
    "_ = ax.hist(lengths, bins=10, edgecolor='black')\n",
    "ax.set_xticks(bins[::5] + 0.5)\n",
    "plt.xlabel('Entity length',  fontsize=15)\n",
    "plt.ylabel('Number of entities',  fontsize=15)\n",
    "plt.title('Histogram of entity lengths', fontsize=20)\n",
    "plt.savefig('histogram_entities_length.png')"
   ]
  },
  {
   "cell_type": "markdown",
   "id": "185d5506",
   "metadata": {},
   "source": [
    "## Pride and Prejudice"
   ]
  },
  {
   "cell_type": "code",
   "execution_count": 183,
   "id": "feeca40a",
   "metadata": {},
   "outputs": [],
   "source": [
    "data = pd.read_csv('/home/airi/Downloads/resolved.tsv', sep='\\t')"
   ]
  },
  {
   "cell_type": "code",
   "execution_count": 204,
   "id": "eafb69c9",
   "metadata": {},
   "outputs": [
    {
     "data": {
      "text/plain": [
       "168.55395683453239"
      ]
     },
     "execution_count": 204,
     "metadata": {},
     "output_type": "execute_result"
    }
   ],
   "source": [
    "np.mean(data.groupby('CHARACTER').count()['SPAN'])"
   ]
  },
  {
   "cell_type": "code",
   "execution_count": 203,
   "id": "33dfa115",
   "metadata": {},
   "outputs": [
    {
     "data": {
      "text/plain": [
       "(23429, 6)"
      ]
     },
     "execution_count": 203,
     "metadata": {},
     "output_type": "execute_result"
    }
   ],
   "source": [
    "data.shape"
   ]
  }
 ],
 "metadata": {
  "kernelspec": {
   "display_name": "Python 3 (ipykernel)",
   "language": "python",
   "name": "python3"
  },
  "language_info": {
   "codemirror_mode": {
    "name": "ipython",
    "version": 3
   },
   "file_extension": ".py",
   "mimetype": "text/x-python",
   "name": "python",
   "nbconvert_exporter": "python",
   "pygments_lexer": "ipython3",
   "version": "3.8.8"
  }
 },
 "nbformat": 4,
 "nbformat_minor": 5
}
