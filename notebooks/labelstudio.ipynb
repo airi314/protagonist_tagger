{
 "cells": [
  {
   "cell_type": "code",
   "execution_count": 20,
   "id": "71dbeb90",
   "metadata": {},
   "outputs": [],
   "source": [
    "import json\n",
    "\n",
    "from tool.annotations_utils import read_annotations, has_intersection\n",
    "\n",
    "title = 'Emma'\n",
    "DIR_PATH = 'data/testing_sets/test_names_gold_standard_corrected'"
   ]
  },
  {
   "cell_type": "code",
   "execution_count": 23,
   "id": "79cb1428",
   "metadata": {},
   "outputs": [
    {
     "name": "stdout",
     "output_type": "stream",
     "text": [
      "<Choice value=\"Emma Woodhouse\"/\n",
      "> <Choice value=\"George Knightley\"/\n",
      "> <Choice value=\"Frank Churchill\"/\n",
      "> <Choice value=\"Jane Fairfax\"/\n",
      "> <Choice value=\"Harriet Smith\"/\n",
      "> <Choice value=\"Robert Martin\"/\n",
      "> <Choice value=\"Philip Elton\"/\n",
      "> <Choice value=\"Augusta Elton\"/\n",
      "> <Choice value=\"Mrs. Weston\"/\n",
      "> <Choice value=\"Mr. Weston\"/\n",
      "> <Choice value=\"Miss Bates\"/\n",
      "> <Choice value=\"Mr. Henry Woodhouse\"/\n",
      "> <Choice value=\"Isabella Knightley\"/\n",
      "> <Choice value=\"John Knightley\"/\n",
      ">\n"
     ]
    }
   ],
   "source": [
    "def create_choices_for_label_studio(filepath):\n",
    "    choices = []\n",
    "    with open(filepath, 'r', encoding='utf-8') as file:\n",
    "        for line in file.readlines():\n",
    "            choices.append(f'<Choice value=\"{line.strip()}\"/\\n>')\n",
    "    return ' '.join(choices)\n",
    "\n",
    "\n",
    "print(create_choices_for_label_studio('data/lists_of_characters/' + title))"
   ]
  },
  {
   "cell_type": "code",
   "execution_count": 16,
   "id": "ed64b4d6",
   "metadata": {},
   "outputs": [
    {
     "data": {
      "text/plain": [
       "'/home/airi/PycharmProjects/protagonist_tagger'"
      ]
     },
     "execution_count": 16,
     "metadata": {},
     "output_type": "execute_result"
    }
   ],
   "source": [
    "def prepare_single_annotation(annotation_id, annotation_content):\n",
    "    return {'id': annotation_id + 1,\n",
    "            'data': {'text': annotation_content},\n",
    "            'annotations': [\n",
    "                {'model_version': 'v1', 'result': []}]}\n",
    "\n",
    "\n",
    "def convert_to_label_studio_entity(entity, annotation, version=0):\n",
    "    if version == 0:\n",
    "        return {\n",
    "                    'from_name': 'label',\n",
    "                    'to_name': 'text',\n",
    "                    'type': 'labels',\n",
    "                    'id': str(hash(str(annotation)+str(entity))),\n",
    "                    'value': {\n",
    "                        'start': entity[0],\n",
    "                        'end': entity[1],\n",
    "                        'text': annotation['content'][entity[0]:entity[1]],\n",
    "                        'labels': ['PERSON']\n",
    "                    }\n",
    "                }\n",
    "    if version == 1:\n",
    "        return {\n",
    "                    'value': {\n",
    "                        'start': entity[0],\n",
    "                        'end': entity[1],\n",
    "                        'text': annotation['content'][entity[0]:entity[1]],\n",
    "                        'choices': [entity[2]]\n",
    "                    },\n",
    "                    'id': str(hash(str(annotation)+str(entity))),\n",
    "                    'from_name': 'relevance',\n",
    "                    'to_name': 'text',\n",
    "                    'type': 'choices'\n",
    "            }\n",
    "\n",
    "\n",
    "def convert_to_label_studio_format(raw_annotations, output_path=None):\n",
    "    new_annotations = []\n",
    "\n",
    "    for anno_id, anno in enumerate(raw_annotations):\n",
    "        single_annotation = prepare_single_annotation(anno_id, anno['content'])\n",
    "\n",
    "        for entity in anno['entities']:\n",
    "            new_entity_v0 = convert_to_label_studio_entity(entity, anno, 0)\n",
    "            new_entity_v1 = convert_to_label_studio_entity(entity, anno, 1)\n",
    "\n",
    "            single_annotation['annotations'][0]['result'].append(new_entity_v0)\n",
    "            single_annotation['annotations'][0]['result'].append(new_entity_v1)\n",
    "\n",
    "        new_annotations.append(single_annotation)\n",
    "\n",
    "    if output_path:\n",
    "        with open(output_path, 'w', encoding='utf-8') as f:\n",
    "            f.write(json.dumps(new_annotations).encode('utf8').decode())\n",
    "    return new_annotations"
   ]
  }
 ],
 "metadata": {
  "kernelspec": {
   "display_name": "Python 3",
   "language": "python",
   "name": "python3"
  },
  "language_info": {
   "codemirror_mode": {
    "name": "ipython",
    "version": 3
   },
   "file_extension": ".py",
   "mimetype": "text/x-python",
   "name": "python",
   "nbconvert_exporter": "python",
   "pygments_lexer": "ipython3",
   "version": "3.6.13"
  }
 },
 "nbformat": 4,
 "nbformat_minor": 5
}
